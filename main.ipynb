{
 "cells": [
  {
   "cell_type": "code",
   "execution_count": 1,
   "metadata": {},
   "outputs": [],
   "source": [
    "from neo4j import GraphDatabase, basic_auth\n",
    "import csv"
   ]
  },
  {
   "cell_type": "code",
   "execution_count": 2,
   "metadata": {},
   "outputs": [],
   "source": [
    "driver = GraphDatabase.driver(\n",
    "  \"bolt://3.238.143.211:7687\",\n",
    "  auth=basic_auth(\"neo4j\", \"checker-shift-chips\"))"
   ]
  },
  {
   "cell_type": "code",
   "execution_count": 3,
   "metadata": {},
   "outputs": [],
   "source": [
    "patients_csv_data = []\n",
    "with open(\"csv/patients.csv\", newline='') as csvfile:\n",
    "    reader = csv.DictReader(csvfile)\n",
    "    for row in reader:\n",
    "        patients_csv_data.append(row)"
   ]
  },
  {
   "cell_type": "code",
   "execution_count": 4,
   "metadata": {},
   "outputs": [
    {
     "data": {
      "text/plain": [
       "{'Id': '30a6452c-4297-a1ac-977a-6a23237c7b46',\n",
       " 'BIRTHDATE': '1994-02-06',\n",
       " 'DEATHDATE': '',\n",
       " 'SSN': '999-52-8591',\n",
       " 'DRIVERS': 'S99996852',\n",
       " 'PASSPORT': 'X47758697X',\n",
       " 'PREFIX': 'Mr.',\n",
       " 'FIRST': 'Joshua658',\n",
       " 'MIDDLE': 'Alvin56',\n",
       " 'LAST': 'Kunde533',\n",
       " 'SUFFIX': '',\n",
       " 'MAIDEN': '',\n",
       " 'MARITAL': 'M',\n",
       " 'RACE': 'white',\n",
       " 'ETHNICITY': 'nonhispanic',\n",
       " 'GENDER': 'M',\n",
       " 'BIRTHPLACE': 'Boston  Massachusetts  US',\n",
       " 'ADDRESS': '811 Kihn Viaduct',\n",
       " 'CITY': 'Braintree',\n",
       " 'STATE': 'Massachusetts',\n",
       " 'COUNTY': 'Norfolk County',\n",
       " 'FIPS': '25021',\n",
       " 'ZIP': '02184',\n",
       " 'LAT': '42.21114202874998',\n",
       " 'LON': '-71.0458021760648',\n",
       " 'HEALTHCARE_EXPENSES': '56904.96',\n",
       " 'HEALTHCARE_COVERAGE': '18019.99',\n",
       " 'INCOME': '100511'}"
      ]
     },
     "execution_count": 4,
     "metadata": {},
     "output_type": "execute_result"
    }
   ],
   "source": [
    "patients_csv_data[0]"
   ]
  },
  {
   "cell_type": "code",
   "execution_count": 5,
   "metadata": {},
   "outputs": [],
   "source": [
    "def upload_patients(tx, records):\n",
    "    cypher_query = \"\"\"\n",
    "    UNWIND $records as record\n",
    "    MERGE(p:Patient {Id: record.Id})\n",
    "    SET p += record\n",
    "    \"\"\"\n",
    "    tx.run(cypher_query, records=records)\n",
    "\n",
    "with driver.session(database=\"neo4j\") as session:\n",
    "    session.execute_write(upload_patients, patients_csv_data)"
   ]
  },
  {
   "cell_type": "code",
   "execution_count": 6,
   "metadata": {},
   "outputs": [],
   "source": [
    "conditions_csv_data = []\n",
    "with open(\"csv/conditions.csv\", newline='') as csvfile:\n",
    "    reader = csv.DictReader(csvfile)\n",
    "    for row in reader:\n",
    "        conditions_csv_data.append(row)"
   ]
  },
  {
   "cell_type": "code",
   "execution_count": 7,
   "metadata": {},
   "outputs": [],
   "source": [
    "def upload_conditions(tx, records):\n",
    "    cypher_query = \"\"\"\n",
    "    UNWIND $records as record\n",
    "    CREATE (c:Condition)\n",
    "    SET c = record\n",
    "    WITH c, record\n",
    "    MATCH (p:Patient {Id: record.PATIENT})\n",
    "    MERGE (p)-[:HAS_CONDITION]->(c)\n",
    "    \"\"\"\n",
    "    tx.run(cypher_query, records=records)\n",
    "\n",
    "with driver.session(database=\"neo4j\") as session:\n",
    "    session.execute_write(upload_conditions, conditions_csv_data)"
   ]
  },
  {
   "cell_type": "code",
   "execution_count": 8,
   "metadata": {},
   "outputs": [],
   "source": [
    "encounters_csv_data = []\n",
    "with open(\"csv/encounters.csv\", newline='') as csvfile:\n",
    "    reader = csv.DictReader(csvfile)\n",
    "    for row in reader:\n",
    "        encounters_csv_data.append(row)"
   ]
  },
  {
   "cell_type": "code",
   "execution_count": 9,
   "metadata": {},
   "outputs": [],
   "source": [
    "def upload_encounters(tx, records):\n",
    "    cypher_query = \"\"\"\n",
    "    UNWIND $records as record\n",
    "    MERGE (e:Encounter {Id: record.Id})\n",
    "    SET e = record\n",
    "    WITH e, record\n",
    "    MATCH (p:Patient {Id: record.PATIENT})\n",
    "    MERGE (p)-[:HAS_ENCOUNTER]->(e)\n",
    "    WITH e, record\n",
    "    MATCH (c:Condition {ENCOUNTER: record.Id})\n",
    "    MERGE (c)-[:FROM_ENCOUNTER]->(e)\n",
    "    \"\"\"\n",
    "    tx.run(cypher_query, records=records)\n",
    "\n",
    "with driver.session(database=\"neo4j\") as session:\n",
    "    session.execute_write(upload_encounters, encounters_csv_data)"
   ]
  },
  {
   "cell_type": "code",
   "execution_count": 10,
   "metadata": {},
   "outputs": [],
   "source": [
    "observations_csv_data = []\n",
    "with open(\"csv/observations.csv\", newline='') as csvfile:\n",
    "    reader = csv.DictReader(csvfile)\n",
    "    for row in reader:\n",
    "        observations_csv_data.append(row)"
   ]
  },
  {
   "cell_type": "code",
   "execution_count": 11,
   "metadata": {},
   "outputs": [],
   "source": [
    "def upload_observations(tx, records):\n",
    "    cypher_query = \"\"\"\n",
    "    UNWIND $records as record\n",
    "    CREATE (o:Observation)\n",
    "    SET o = record\n",
    "    WITH o, record\n",
    "    MATCH (e:Encounter {Id: record.ENCOUNTER})\n",
    "    MERGE (e)-[:HAS_OBSERVATION]->(o)\n",
    "    \"\"\"\n",
    "    tx.run(cypher_query, records=records)\n",
    "\n",
    "with driver.session(database=\"neo4j\") as session:\n",
    "    session.execute_write(upload_observations, observations_csv_data)"
   ]
  },
  {
   "cell_type": "code",
   "execution_count": 6,
   "metadata": {},
   "outputs": [],
   "source": [
    "organizations_csv_data = []\n",
    "with open(\"csv/organizations.csv\", newline='') as csvfile:\n",
    "    reader = csv.DictReader(csvfile)\n",
    "    for row in reader:\n",
    "        organizations_csv_data.append(row)"
   ]
  },
  {
   "cell_type": "code",
   "execution_count": 7,
   "metadata": {},
   "outputs": [],
   "source": [
    "def upload_organizations(tx, records):\n",
    "    cypher_query = \"\"\"\n",
    "    UNWIND $records as record\n",
    "    MERGE (org:Organization {Id: record.Id})\n",
    "    SET org += record\n",
    "    WITH org, record\n",
    "    MATCH (e:Encounter {ORGANIZATION: record.Id})\n",
    "    MERGE (e)-[:WITH_ORGANIZATION]->(org)\n",
    "    \"\"\"\n",
    "    tx.run(cypher_query, records=records)\n",
    "\n",
    "with driver.session(database=\"neo4j\") as session:\n",
    "    session.execute_write(upload_organizations, organizations_csv_data)"
   ]
  },
  {
   "cell_type": "code",
   "execution_count": 8,
   "metadata": {},
   "outputs": [],
   "source": [
    "medications_csv_data = []\n",
    "with open(\"csv/medications.csv\", newline='') as csvfile:\n",
    "    reader = csv.DictReader(csvfile)\n",
    "    for row in reader:\n",
    "        medications_csv_data.append(row)"
   ]
  },
  {
   "cell_type": "code",
   "execution_count": 9,
   "metadata": {},
   "outputs": [],
   "source": [
    "def upload_medications(tx, records):\n",
    "    cypher_query = \"\"\"\n",
    "    UNWIND $records as record\n",
    "    CREATE (m:Medication)\n",
    "    SET m = record\n",
    "    WITH m, record\n",
    "    MATCH (e:Encounter {Id: record.ENCOUNTER})\n",
    "    MERGE (m)-[:FROM_ENCOUNTER]->(e)\n",
    "    \"\"\"\n",
    "    tx.run(cypher_query, records=records)\n",
    "\n",
    "with driver.session(database=\"neo4j\") as session:\n",
    "    session.execute_write(upload_medications, medications_csv_data)"
   ]
  },
  {
   "cell_type": "code",
   "execution_count": 10,
   "metadata": {},
   "outputs": [],
   "source": [
    "providers_csv_data = []\n",
    "with open(\"csv/providers.csv\", newline='') as csvfile:\n",
    "    reader = csv.DictReader(csvfile)\n",
    "    for row in reader:\n",
    "        providers_csv_data.append(row)"
   ]
  },
  {
   "cell_type": "code",
   "execution_count": 11,
   "metadata": {},
   "outputs": [],
   "source": [
    "def upload_providers(tx, records):\n",
    "    cypher_query = \"\"\"\n",
    "    UNWIND $records as record\n",
    "    MERGE (pro:Provider {Id: record.Id})\n",
    "    SET pro += record\n",
    "    WITH pro, record\n",
    "    MATCH (org:Organization {Id: record.ORGANIZATION})\n",
    "    MERGE (pro)-[:WORKS_AT]->(org)\n",
    "    \"\"\"\n",
    "    tx.run(cypher_query, records=records)\n",
    "\n",
    "with driver.session(database=\"neo4j\") as session:\n",
    "    session.execute_write(upload_providers, providers_csv_data)"
   ]
  },
  {
   "cell_type": "code",
   "execution_count": 14,
   "metadata": {},
   "outputs": [],
   "source": [
    "with driver.session(database=\"neo4j\") as session:\n",
    "    session.execute_write(lambda tx: tx.run(\"\"\"\n",
    "        MATCH (pro:Provider), (e:Encounter)\n",
    "        WHERE e.PROVIDER = pro.Id\n",
    "        MERGE (e)-[:PROVIDED_BY]->(pro)\n",
    "    \"\"\"))"
   ]
  },
  {
   "cell_type": "code",
   "execution_count": 21,
   "metadata": {},
   "outputs": [],
   "source": [
    "careplans_csv_data = []\n",
    "with open(\"csv/careplans.csv\", newline='') as csvfile:\n",
    "    reader = csv.DictReader(csvfile)\n",
    "    for row in reader:\n",
    "        careplans_csv_data.append(row)"
   ]
  },
  {
   "cell_type": "code",
   "execution_count": 22,
   "metadata": {},
   "outputs": [],
   "source": [
    "def upload_careplans(tx, records):\n",
    "    cypher_query = \"\"\"\n",
    "    UNWIND $records as record\n",
    "    MERGE (care:Careplan {Id: record.Id})\n",
    "    SET care += record\n",
    "    WITH care, record\n",
    "    MATCH (e:Encounter {Id: record.ENCOUNTER})\n",
    "    MERGE (care)-[:FROM_ENCOUNTER]->(e)\n",
    "    \"\"\"\n",
    "    tx.run(cypher_query, records=records)\n",
    "\n",
    "with driver.session(database=\"neo4j\") as session:\n",
    "    session.execute_write(upload_careplans, careplans_csv_data)"
   ]
  },
  {
   "cell_type": "code",
   "execution_count": 23,
   "metadata": {},
   "outputs": [],
   "source": [
    "procedures_csv_data = []\n",
    "with open(\"csv/procedures.csv\", newline='') as csvfile:\n",
    "    reader = csv.DictReader(csvfile)\n",
    "    for row in reader:\n",
    "        procedures_csv_data.append(row)"
   ]
  },
  {
   "cell_type": "code",
   "execution_count": 24,
   "metadata": {},
   "outputs": [],
   "source": [
    "def upload_procedures(tx, records):\n",
    "    cypher_query = \"\"\"\n",
    "    UNWIND $records as record\n",
    "    CREATE (proc:Procedure)\n",
    "    SET proc = record\n",
    "    WITH proc, record\n",
    "    MATCH (e:Encounter {Id: record.ENCOUNTER})\n",
    "    MERGE (proc)-[:FROM_ENCOUNTER]->(e)\n",
    "    \"\"\"\n",
    "    tx.run(cypher_query, records=records)\n",
    "\n",
    "with driver.session(database=\"neo4j\") as session:\n",
    "    session.execute_write(upload_procedures, procedures_csv_data)"
   ]
  },
  {
   "cell_type": "code",
   "execution_count": 26,
   "metadata": {},
   "outputs": [],
   "source": [
    "with driver.session(database=\"neo4j\") as session:\n",
    "    session.execute_write(lambda tx: tx.run(\"\"\"\n",
    "        MATCH (p:Patient), (m:Medication)\n",
    "        WHERE p.Id = m.PATIENT\n",
    "        MERGE (p)-[:HAS_MEDICATION]->(m)\n",
    "    \"\"\"))"
   ]
  },
  {
   "cell_type": "code",
   "execution_count": 27,
   "metadata": {},
   "outputs": [],
   "source": [
    "payers_csv_data = []\n",
    "with open(\"csv/payers.csv\", newline='') as csvfile:\n",
    "    reader = csv.DictReader(csvfile)\n",
    "    for row in reader:\n",
    "        payers_csv_data.append(row)"
   ]
  },
  {
   "cell_type": "code",
   "execution_count": 30,
   "metadata": {},
   "outputs": [],
   "source": [
    "def upload_payers(tx, records):\n",
    "    cypher_query = \"\"\"\n",
    "    UNWIND $records as record\n",
    "    MERGE (pay:Payer {Id: record.Id})\n",
    "    SET pay += record\n",
    "    WITH pay, record\n",
    "    MATCH (e:Encounter {PAYER: record.Id})\n",
    "    MERGE (e)-[:PAID_BY]->(pay)\n",
    "    \"\"\"\n",
    "    tx.run(cypher_query, records=records)\n",
    "\n",
    "with driver.session(database=\"neo4j\") as session:\n",
    "    session.execute_write(upload_payers, payers_csv_data)"
   ]
  },
  {
   "cell_type": "code",
   "execution_count": 33,
   "metadata": {},
   "outputs": [],
   "source": [
    "claims_csv_data = []\n",
    "with open(\"csv/claims.csv\", newline='') as csvfile:\n",
    "    reader = csv.DictReader(csvfile)\n",
    "    for row in reader:\n",
    "        claims_csv_data.append(row)"
   ]
  },
  {
   "cell_type": "code",
   "execution_count": 34,
   "metadata": {},
   "outputs": [],
   "source": [
    "def upload_claims(tx, records):\n",
    "    cypher_query = \"\"\"\n",
    "    UNWIND $records as record\n",
    "    MERGE (cl:Claim {Id: record.Id})\n",
    "    SET cl += record\n",
    "    WITH cl, record\n",
    "    MATCH (p:Patient {Id: record.PATIENTID})\n",
    "    MERGE (cl)-[:CLAIMED_BY]->(p)\n",
    "    \"\"\"\n",
    "    tx.run(cypher_query, records=records)\n",
    "\n",
    "with driver.session(database=\"neo4j\") as session:\n",
    "    session.execute_write(upload_claims, claims_csv_data)"
   ]
  }
 ],
 "metadata": {
  "kernelspec": {
   "display_name": "dsc202",
   "language": "python",
   "name": "python3"
  },
  "language_info": {
   "codemirror_mode": {
    "name": "ipython",
    "version": 3
   },
   "file_extension": ".py",
   "mimetype": "text/x-python",
   "name": "python",
   "nbconvert_exporter": "python",
   "pygments_lexer": "ipython3",
   "version": "3.12.9"
  }
 },
 "nbformat": 4,
 "nbformat_minor": 2
}
