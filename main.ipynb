{
 "cells": [
  {
   "cell_type": "code",
   "execution_count": 42,
   "metadata": {},
   "outputs": [],
   "source": [
    "from neo4j import GraphDatabase, basic_auth\n",
    "import csv"
   ]
  },
  {
   "cell_type": "code",
   "execution_count": 32,
   "metadata": {},
   "outputs": [],
   "source": [
    "patients_csv_data = []\n",
    "with open(\"csv/patients.csv\", newline='') as csvfile:\n",
    "    reader = csv.DictReader(csvfile)\n",
    "    for row in reader:\n",
    "        patients_csv_data.append(row)"
   ]
  },
  {
   "cell_type": "code",
   "execution_count": 43,
   "metadata": {},
   "outputs": [
    {
     "data": {
      "text/plain": [
       "{'Id': 'b9c610cd-28a6-4636-ccb6-c7a0d2a4cb85',\n",
       " 'BIRTHDATE': '2019-02-17',\n",
       " 'DEATHDATE': '',\n",
       " 'SSN': '999-65-3251',\n",
       " 'DRIVERS': '',\n",
       " 'PASSPORT': '',\n",
       " 'PREFIX': '',\n",
       " 'FIRST': 'Damon455',\n",
       " 'LAST': 'Langosh790',\n",
       " 'SUFFIX': '',\n",
       " 'MAIDEN': '',\n",
       " 'MARITAL': '',\n",
       " 'RACE': 'white',\n",
       " 'ETHNICITY': 'nonhispanic',\n",
       " 'GENDER': 'M',\n",
       " 'BIRTHPLACE': 'Middleborough  Massachusetts  US',\n",
       " 'ADDRESS': '620 Lynch Tunnel Apt 0',\n",
       " 'CITY': 'Springfield',\n",
       " 'STATE': 'Massachusetts',\n",
       " 'COUNTY': 'Hampden County',\n",
       " 'ZIP': '01104',\n",
       " 'LAT': '42.08038942501558',\n",
       " 'LON': '-72.48043144917739',\n",
       " 'HEALTHCARE_EXPENSES': '9039.1645',\n",
       " 'HEALTHCARE_COVERAGE': '7964.1255'}"
      ]
     },
     "execution_count": 43,
     "metadata": {},
     "output_type": "execute_result"
    }
   ],
   "source": [
    "patients_csv_data[0]"
   ]
  },
  {
   "cell_type": "code",
   "execution_count": 41,
   "metadata": {},
   "outputs": [],
   "source": [
    "def upload_records(tx, records):\n",
    "    cypher_query = \"\"\"\n",
    "    UNWIND $records as record\n",
    "    MERGE(p:Patient {Id: record.Id})\n",
    "    SET p += record\n",
    "    \"\"\"\n",
    "    tx.run(cypher_query, records=records)\n",
    "\n",
    "# Connect to Neo4j and upload data\n",
    "driver = GraphDatabase.driver(\n",
    "  \"bolt://3.238.143.211:7687\",\n",
    "  auth=basic_auth(\"neo4j\", \"checker-shift-chips\"))\n",
    "\n",
    "with driver.session(database=\"neo4j\") as session:\n",
    "    session.execute_write(upload_records, patients_csv_data)"
   ]
  },
  {
   "cell_type": "code",
   "execution_count": null,
   "metadata": {},
   "outputs": [],
   "source": [
    "def upload_conditions(tx, records):\n",
    "    cypher_query = \"\"\"\n",
    "    UNWIND $records as record\n",
    "    MERGE(c:Conditions {Id: record.Id})\n",
    "    SET p += record\n",
    "    \"\"\"\n",
    "    tx.run(cypher_query, records=records)\n",
    "\n",
    "# Connect to Neo4j and upload data\n",
    "driver = GraphDatabase.driver(\n",
    "  \"bolt://3.238.143.211:7687\",\n",
    "  auth=basic_auth(\"neo4j\", \"checker-shift-chips\"))\n",
    "\n",
    "with driver.session(database=\"neo4j\") as session:\n",
    "    session.execute_write(upload_records, patients_csv_data)"
   ]
  }
 ],
 "metadata": {
  "kernelspec": {
   "display_name": "dsc202",
   "language": "python",
   "name": "python3"
  },
  "language_info": {
   "codemirror_mode": {
    "name": "ipython",
    "version": 3
   },
   "file_extension": ".py",
   "mimetype": "text/x-python",
   "name": "python",
   "nbconvert_exporter": "python",
   "pygments_lexer": "ipython3",
   "version": "3.12.9"
  }
 },
 "nbformat": 4,
 "nbformat_minor": 2
}
